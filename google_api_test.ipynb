{
 "cells": [
  {
   "cell_type": "code",
   "execution_count": 3,
   "metadata": {},
   "outputs": [],
   "source": [
    "import os.path\n",
    "\n",
    "from google.auth.transport.requests import Request\n",
    "from google.oauth2.credentials import Credentials\n",
    "from google_auth_oauthlib.flow import InstalledAppFlow\n",
    "from googleapiclient.discovery import build\n",
    "from googleapiclient.errors import HttpError\n",
    "\n",
    "SCOPES = ['https://www.googleapis.com/auth/drive']"
   ]
  },
  {
   "cell_type": "code",
   "execution_count": 4,
   "metadata": {},
   "outputs": [
    {
     "name": "stdout",
     "output_type": "stream",
     "text": [
      "Please visit this URL to authorize this application: https://accounts.google.com/o/oauth2/auth?response_type=code&client_id=723729305832-sbh9mmpj0apcrea0gt1rifidfi3utkmq.apps.googleusercontent.com&redirect_uri=http%3A%2F%2Flocalhost%3A54112%2F&scope=https%3A%2F%2Fwww.googleapis.com%2Fauth%2Fdrive&state=aPFsWq35XsdQAlunBn1irMcJgBWfq1&access_type=offline\n"
     ]
    }
   ],
   "source": [
    "creds = None\n",
    "\n",
    "if os.path.exists(\"credentials/token.json\"):\n",
    "    creds = Credentials.from_authorized_user_file(\"credentials/token.json\", SCOPES)\n",
    "  # If there are no (valid) credentials available, let the user log in.\n",
    "if not creds or not creds.valid:\n",
    "    if creds and creds.expired and creds.refresh_token:\n",
    "        creds.refresh(Request())\n",
    "    else:\n",
    "        flow = InstalledAppFlow.from_client_secrets_file(\n",
    "            \"credentials/google_creds.json\", SCOPES\n",
    "        )\n",
    "        creds = flow.run_local_server(port=0)\n",
    "    # Save the credentials for the next run\n",
    "    with open(\"credentials/token.json\", \"w\") as token:\n",
    "        token.write(creds.to_json())"
   ]
  },
  {
   "cell_type": "code",
   "execution_count": 5,
   "metadata": {},
   "outputs": [
    {
     "name": "stdout",
     "output_type": "stream",
     "text": [
      "Files in folder:\n",
      "model_gpu.pt (1wNYEDbFx4nqhV6JJ8AurgUlJjZxWrQ2X)\n",
      "Download progress for model_gpu.pt: 100%\n",
      "Downloaded model_gpu.pt to downloads\\model_gpu.pt\n",
      "model.pt (1CK-xWyWSlTHy7T5PlZz3pg-gliDQc7nW)\n",
      "Download progress for model.pt: 100%\n",
      "Downloaded model.pt to downloads\\model.pt\n",
      "untrained.pt (1dZEfcvB61u1gIJRTvnjFuJX9qqb4tBC_)\n",
      "Download progress for untrained.pt: 100%\n",
      "Downloaded untrained.pt to downloads\\untrained.pt\n"
     ]
    }
   ],
   "source": [
    "import io\n",
    "from googleapiclient.http import MediaIoBaseDownload\n",
    "\n",
    "service = build(\"drive\", \"v3\", credentials=creds)\n",
    "\n",
    "query = f\"'1kzq60ZAhyl9Z7uKe9T0bsr8NrOJKhuP9' in parents\"\n",
    "results = service.files().list(q=query, fields=\"nextPageToken, files(id, name)\").execute()\n",
    "items = results.get('files', [])\n",
    "\n",
    "if not items:\n",
    "    print('No files found in the folder.')\n",
    "else:\n",
    "    print('Files in folder:')\n",
    "    for item in items:\n",
    "        file_name = item['name']\n",
    "        print(f\"{item['name']} ({item['id']})\")\n",
    "        request = service.files().get_media(fileId=item['id'])\n",
    "        file_path = os.path.join('downloads', file_name)  # Download files to the 'downloads' directory\n",
    "\n",
    "        # Create the 'downloads' directory if it doesn't exist\n",
    "        if not os.path.exists('downloads'):\n",
    "            os.makedirs('downloads')\n",
    "\n",
    "        fh = io.BytesIO()\n",
    "        downloader = MediaIoBaseDownload(fh, request)\n",
    "        done = False\n",
    "        while not done:\n",
    "            status, done = downloader.next_chunk()\n",
    "            print(f\"Download progress for {file_name}: {int(status.progress() * 100)}%\")\n",
    "\n",
    "        # Save the file to the disk\n",
    "        with open(file_path, 'wb') as f:\n",
    "            f.write(fh.getvalue())\n",
    "        print(f\"Downloaded {file_name} to {file_path}\")\n",
    "        service.files().delete(fileId=item['id']).execute()"
   ]
  }
 ],
 "metadata": {
  "kernelspec": {
   "display_name": ".venv",
   "language": "python",
   "name": "python3"
  },
  "language_info": {
   "codemirror_mode": {
    "name": "ipython",
    "version": 3
   },
   "file_extension": ".py",
   "mimetype": "text/x-python",
   "name": "python",
   "nbconvert_exporter": "python",
   "pygments_lexer": "ipython3",
   "version": "3.10.4"
  }
 },
 "nbformat": 4,
 "nbformat_minor": 2
}
